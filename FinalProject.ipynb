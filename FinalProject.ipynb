{
 "cells": [
  {
   "cell_type": "code",
   "execution_count": 143,
   "id": "7204cbdd",
   "metadata": {},
   "outputs": [],
   "source": [
    "import gym\n",
    "import random\n",
    "import numpy as np\n",
    "import matplotlib\n",
    "import matplotlib.pyplot as plt\n",
    "\n",
    "import torch"
   ]
  },
  {
   "cell_type": "code",
   "execution_count": 144,
   "id": "3b037ede",
   "metadata": {
    "scrolled": true
   },
   "outputs": [
    {
     "data": {
      "text/plain": [
       "array([-0.59669447,  0.        ], dtype=float32)"
      ]
     },
     "execution_count": 144,
     "metadata": {},
     "output_type": "execute_result"
    }
   ],
   "source": [
    "env = gym.make('MountainCar-v0')\n",
    "env.reset()"
   ]
  },
  {
   "cell_type": "code",
   "execution_count": 145,
   "id": "6922dc4e",
   "metadata": {},
   "outputs": [],
   "source": [
    "def newreward(pos):\n",
    "    if (pos >= 0.5):\n",
    "        return 2\n",
    "    else:\n",
    "        return (pos+1.2)/1.8 - 1"
   ]
  },
  {
   "cell_type": "code",
   "execution_count": 146,
   "id": "cf21fb40",
   "metadata": {},
   "outputs": [],
   "source": [
    "def SizeStateSpace(env):\n",
    "    size_states = (env.observation_space.high - env.observation_space.low) * np.array([10,50])\n",
    "    size_states = np.around(size_states, 0).astype(int) + 1\n",
    "    return size_states"
   ]
  },
  {
   "cell_type": "code",
   "execution_count": 147,
   "id": "eaa8ce45",
   "metadata": {},
   "outputs": [],
   "source": [
    "def DiscretizeState(env):\n",
    "    state = env.reset()\n",
    "    DiscretizedState = (state - env.observation_space.low) * np.array([10,50])\n",
    "    DiscretizedState = np.round(DiscretizedState, 0).astype(int)\n",
    "    return DiscretizedState"
   ]
  },
  {
   "cell_type": "code",
   "execution_count": 148,
   "id": "0cd8b263",
   "metadata": {},
   "outputs": [],
   "source": [
    "def QUpdate(learningRate, nextState, nextState_adj, Q_Table, currentState, action):\n",
    "    delta = learningRate * (newreward(nextState[0]) + np.max(Q_Table[nextState_adj[0], nextState_adj[1]]) - Q_Table[currentState[0], currentState[1],action])\n",
    "    return delta"
   ]
  },
  {
   "cell_type": "code",
   "execution_count": 149,
   "id": "2466c4f2",
   "metadata": {},
   "outputs": [],
   "source": [
    "def QLearning(env, learningrate, discount, epsilon, min_epsilon, episodes):\n",
    "    \n",
    "    #Determine size of discretized state space\n",
    "    size_states = SizeStateSpace(env)\n",
    "    \n",
    "    #Initialize Q table\n",
    "    Q_Table = np.random.uniform(low = -1, high = 0, size = (size_states[0], size_states[1], env.action_space.n))\n",
    "    \n",
    "    #Copy of Q value for plotting purpose\n",
    "    Qinit = np.copy(Q_Table)\n",
    "    \n",
    "    #Initialize variables to track rewards\n",
    "    reward_list = []\n",
    "    ave_reward_list = []\n",
    "    \n",
    "    #Make copy of epsilon\n",
    "    eps1 = epsilon\n",
    "    \n",
    "    #Keep track of first success\n",
    "    first = episodes + 1\n",
    "    \n",
    "    #Run Q Learning Algorithm\n",
    "    for i in range(episodes):\n",
    "        #Intialize parameters \n",
    "        done = False\n",
    "        tot_reward, reward = 0,0\n",
    "        state = env.reset()\n",
    "        \n",
    "        #Discretize state\n",
    "        state_adj = DiscretizeState(env)\n",
    "        \n",
    "        while done != True:\n",
    "            #Render environment for last few epsiodes\n",
    "            if i >= (episodes - 5) or i < 5:  #episodes % DISPLAY == 0:  #i >= (episodes - 20): \n",
    "                env.render()\n",
    "            \n",
    "            #Determine next action - epsilon greedy strategy\n",
    "            if np.random.random() < 1-epsilon:\n",
    "                action = np.argmax(Q_Table[state_adj[0], state_adj[1]])\n",
    "            else:\n",
    "                action = np.random.randint(0, env.action_space.n)\n",
    "                \n",
    "            #Get next state and reward\n",
    "            nextState, reward, done, info = env.step(action)\n",
    "            \n",
    "            #Discretize state2\n",
    "            nextState_adj = (nextState - env.observation_space.low) * np.array([10, 50])\n",
    "            nextState_adj = np.round(nextState_adj, 0).astype(int)\n",
    "            \n",
    "            #Save to Qpoints\n",
    "            row = np.array([state_adj[0], state_adj[1], action])\n",
    "            \n",
    "            #Allow for terminal state\n",
    "            if done and nextState[0] >= 0.5:\n",
    "                Q_Table[state_adj[0], state_adj[1], action] = reward\n",
    "                \n",
    "            #Adjust Q value for current state\n",
    "            else:\n",
    "                delta = QUpdate(learningrate, nextState, nextState_adj, Q_Table, state_adj, action)\n",
    "                Q_Table[state_adj[0], state_adj[1], action] += delta\n",
    "            \n",
    "            #Notifies of any clears\n",
    "            if nextState[0] >= 0.5 and i < first:\n",
    "                first = i\n",
    "                print('First time reaching goal on epsiode {}'.format(i+1))\n",
    "            \n",
    "            #Update variables\n",
    "            tot_reward += newreward(nextState[0])\n",
    "            state_adj = nextState_adj\n",
    "        \n",
    "        #Decay epsilon\n",
    "        if epsilon > min_epsilon:\n",
    "            epsilon *= eps1\n",
    "            \n",
    "        #Track reward\n",
    "        reward_list.append(tot_reward)\n",
    "        \n",
    "        if (i+1) % 100 == 0:\n",
    "            ave_reward = np.mean(reward_list)\n",
    "            ave_reward_list.append(ave_reward)\n",
    "            reward_list = []\n",
    "        \n",
    "        if(i+1) % 100 == 0:\n",
    "            print('Episode {} Average Reward: {}'.format(i+1, ave_reward))\n",
    "    env.close()\n",
    "    \n",
    "    return ave_reward_list, Q_Table, Qinit\n",
    "        "
   ]
  },
  {
   "cell_type": "code",
   "execution_count": 150,
   "id": "548cf497",
   "metadata": {},
   "outputs": [
    {
     "name": "stdout",
     "output_type": "stream",
     "text": [
      "Episode 100 Average Reward: -125.13959064500199\n",
      "Episode 200 Average Reward: -124.708788217273\n",
      "Episode 300 Average Reward: -124.281844482578\n",
      "Episode 400 Average Reward: -125.16451558102337\n",
      "Episode 500 Average Reward: -124.64616038486515\n",
      "Episode 600 Average Reward: -124.22654481972567\n",
      "Episode 700 Average Reward: -124.15875877378389\n",
      "Episode 800 Average Reward: -123.96989121268784\n",
      "Episode 900 Average Reward: -124.47513066538559\n",
      "Episode 1000 Average Reward: -123.776802054047\n",
      "Episode 1100 Average Reward: -124.48505818021708\n",
      "First time reaching goal on epsiode 1114\n",
      "Episode 1200 Average Reward: -123.87020619363642\n",
      "Episode 1300 Average Reward: -122.29191424920137\n",
      "Episode 1400 Average Reward: -123.20061644846756\n",
      "Episode 1500 Average Reward: -124.04998487258823\n",
      "Episode 1600 Average Reward: -121.2214014867284\n",
      "Episode 1700 Average Reward: -121.2633481232075\n",
      "Episode 1800 Average Reward: -122.77640591707545\n",
      "Episode 1900 Average Reward: -121.49519031210451\n",
      "Episode 2000 Average Reward: -118.30480262057888\n",
      "Episode 2100 Average Reward: -116.7755187999457\n",
      "Episode 2200 Average Reward: -117.21396843820466\n",
      "Episode 2300 Average Reward: -116.90694346116842\n",
      "Episode 2400 Average Reward: -119.21162740078051\n",
      "Episode 2500 Average Reward: -120.90813055369837\n",
      "Episode 2600 Average Reward: -117.5655603654197\n",
      "Episode 2700 Average Reward: -108.64885907386186\n",
      "Episode 2800 Average Reward: -111.29380415304666\n",
      "Episode 2900 Average Reward: -108.96009289871068\n",
      "Episode 3000 Average Reward: -110.6536941044084\n",
      "Episode 3100 Average Reward: -113.23491140230244\n",
      "Episode 3200 Average Reward: -118.25127267665026\n",
      "Episode 3300 Average Reward: -120.3341823816932\n",
      "Episode 3400 Average Reward: -117.22285209300102\n",
      "Episode 3500 Average Reward: -106.3042956962712\n",
      "Episode 3600 Average Reward: -111.0399995407171\n",
      "Episode 3700 Average Reward: -110.41954623783923\n",
      "Episode 3800 Average Reward: -117.51630033838525\n",
      "Episode 3900 Average Reward: -102.35946345070144\n",
      "Episode 4000 Average Reward: -97.52155224844338\n",
      "Episode 4100 Average Reward: -113.93391437252784\n",
      "Episode 4200 Average Reward: -107.15066582070286\n",
      "Episode 4300 Average Reward: -102.99282231823298\n",
      "Episode 4400 Average Reward: -99.40195923126385\n",
      "Episode 4500 Average Reward: -100.41801680892067\n",
      "Episode 4600 Average Reward: -113.57460588379152\n",
      "Episode 4700 Average Reward: -103.42116828076465\n",
      "Episode 4800 Average Reward: -112.71409426905477\n",
      "Episode 4900 Average Reward: -112.10502672998277\n",
      "Episode 5000 Average Reward: -112.20066869330712\n",
      "Episode 5100 Average Reward: -94.99228274996561\n",
      "Episode 5200 Average Reward: -79.32652922546839\n",
      "Episode 5300 Average Reward: -76.5118704760235\n",
      "Episode 5400 Average Reward: -75.31441322351374\n",
      "Episode 5500 Average Reward: -79.05186370704234\n",
      "Episode 5600 Average Reward: -76.99435224763843\n",
      "Episode 5700 Average Reward: -74.26917377932229\n",
      "Episode 5800 Average Reward: -74.6434153785668\n",
      "Episode 5900 Average Reward: -76.01439885539949\n",
      "Episode 6000 Average Reward: -81.19648243682563\n",
      "Episode 6100 Average Reward: -76.3633841659367\n",
      "Episode 6200 Average Reward: -74.30882952011635\n",
      "Episode 6300 Average Reward: -76.41335974874606\n",
      "Episode 6400 Average Reward: -82.55788929372831\n",
      "Episode 6500 Average Reward: -91.81950685312879\n",
      "Episode 6600 Average Reward: -100.42221082262002\n",
      "Episode 6700 Average Reward: -99.33049767883895\n",
      "Episode 6800 Average Reward: -97.2638219475143\n",
      "Episode 6900 Average Reward: -98.95335554105584\n",
      "Episode 7000 Average Reward: -98.60839553041575\n",
      "Episode 7100 Average Reward: -104.19533712102624\n",
      "Episode 7200 Average Reward: -88.06510502728777\n",
      "Episode 7300 Average Reward: -87.43134798746874\n",
      "Episode 7400 Average Reward: -88.39996393407351\n",
      "Episode 7500 Average Reward: -90.13413977916761\n",
      "Episode 7600 Average Reward: -80.5548766391622\n",
      "Episode 7700 Average Reward: -82.47715584438579\n",
      "Episode 7800 Average Reward: -83.8813508952616\n",
      "Episode 7900 Average Reward: -80.52792406479537\n",
      "Episode 8000 Average Reward: -82.02829133723456\n",
      "Episode 8100 Average Reward: -82.89321475678683\n",
      "Episode 8200 Average Reward: -84.21592140954075\n",
      "Episode 8300 Average Reward: -83.43296706762327\n",
      "Episode 8400 Average Reward: -83.57258627527821\n",
      "Episode 8500 Average Reward: -82.97219859051036\n",
      "Episode 8600 Average Reward: -84.49694637851493\n",
      "Episode 8700 Average Reward: -81.65298727269486\n",
      "Episode 8800 Average Reward: -82.63012565067815\n",
      "Episode 8900 Average Reward: -81.94968086696917\n",
      "Episode 9000 Average Reward: -80.92712811752425\n",
      "Episode 9100 Average Reward: -80.2452347768597\n",
      "Episode 9200 Average Reward: -81.77594024985575\n",
      "Episode 9300 Average Reward: -81.07195444155944\n",
      "Episode 9400 Average Reward: -80.41430503620585\n",
      "Episode 9500 Average Reward: -82.25214473343338\n",
      "Episode 9600 Average Reward: -82.8026609292017\n",
      "Episode 9700 Average Reward: -81.6420095477884\n",
      "Episode 9800 Average Reward: -81.40532363077317\n",
      "Episode 9900 Average Reward: -82.91855685812017\n",
      "Episode 10000 Average Reward: -82.68793314597781\n"
     ]
    }
   ],
   "source": [
    "env.reset()\n",
    "rewards, Qpts, Qinit = QLearning(env, 0.2, 0.9, 0.999, 0, 10000)"
   ]
  },
  {
   "cell_type": "code",
   "execution_count": 151,
   "id": "76446746",
   "metadata": {},
   "outputs": [
    {
     "data": {
      "text/plain": [
       "Text(0.5, 1.0, 'Average Reward vs Episodes')"
      ]
     },
     "execution_count": 151,
     "metadata": {},
     "output_type": "execute_result"
    },
    {
     "data": {
      "image/png": "[encoded data removed]",
      "text/plain": [
       "<Figure size 432x288 with 1 Axes>"
      ]
     },
     "metadata": {
      "needs_background": "light"
     },
     "output_type": "display_data"
    }
   ],
   "source": [
    "plt.plot(100*(np.arange(len(rewards)) + 1), rewards)\n",
    "plt.xlabel('Episodes')\n",
    "plt.ylabel('Average Reward')\n",
    "plt.title('Average Reward vs Episodes')"
   ]
  },
  {
   "cell_type": "code",
   "execution_count": 152,
   "id": "0483a343",
   "metadata": {},
   "outputs": [
    {
     "name": "stdout",
     "output_type": "stream",
     "text": [
      "initial action counts: [58 52 42]\n",
      "Final action counts: [51 46 55]\n"
     ]
    },
    {
     "data": {
      "image/png": "[encoded data removed]",
      "text/plain": [
       "<Figure size 432x288 with 2 Axes>"
      ]
     },
     "metadata": {
      "needs_background": "light"
     },
     "output_type": "display_data"
    }
   ],
   "source": [
    "colors = ['lime','blue','red']\n",
    "labels = ['Left', 'Nothing', 'Right']\n",
    "fig, (ax1, ax2) = plt.subplots(2)\n",
    "colorcount2= np.array([0,0,0])\n",
    "colorcount = np.array([0,0,0])\n",
    "for i in range(19):\n",
    "    for j in range(8):\n",
    "        maxdex2 = np.argmax(Qinit[i][j])\n",
    "        ax1.plot(i/10-1.2, j/50-0.07, 'o', color = colors[maxdex2])\n",
    "        colorcount2[maxdex2] +=1\n",
    "        maxdex = np.argmax(Qpts[i][j])\n",
    "        ax2.plot(i/10-1.2,j/50-0.07,'o',color = colors[maxdex])\n",
    "        colorcount[maxdex] += 1\n",
    "print('initial action counts: {}'.format(colorcount2))\n",
    "print('Final action counts: {}'.format(colorcount))"
   ]
  }
 ],
 "metadata": {
  "kernelspec": {
   "display_name": "Python 3 (ipykernel)",
   "language": "python",
   "name": "python3"
  },
  "language_info": {
   "codemirror_mode": {
    "name": "ipython",
    "version": 3
   },
   "file_extension": ".py",
   "mimetype": "text/x-python",
   "name": "python",
   "nbconvert_exporter": "python",
   "pygments_lexer": "ipython3",
   "version": "3.9.12"
  }
 },
 "nbformat": 4,
 "nbformat_minor": 5
}
